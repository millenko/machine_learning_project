{
 "cells": [
  {
   "cell_type": "markdown",
   "id": "2001672e-9c5a-4ca6-a5e3-b28c5b2e48ec",
   "metadata": {},
   "source": [
    "# Predictions, part IV\n",
    "- drop columns: no\n",
    "- scaler: yes\n",
    "- hyperparameter tuning: yes\n",
    "- one-hot encoding: yes, the dataset was found encoded\n",
    "- **oversampling: yes**\n",
    "\n",
    "In this session, I'm addressing class imbalance in the target category.\\\n",
    "I'm addressing it by using 3 techniques:\n",
    "1. oversampling,\n",
    "2. undersampling,\n",
    "3. SMOTE.\n",
    "\n",
    "Target column \"is_canceled\" has 37% vs 63% for canceled vs not canceled bookings.\\\n",
    "What I did is a quick solution, to avoid redoing dozens of calculations.\\\n",
    "I created copies of notebooks 4 and 5, which contain calculations for all the models, using unscaled (notebook 4) and scaled (notebook 5) data.\\\n",
    "Then I oversampled the target and ran the models anew.\\\n",
    "Oversampling reduced every model's accuracy scores dropped by up to 6%.\\\n",
    "I repeated the process with use of undersampling and SMOTE. The results keep confirming the previous findings.\\\n",
    "**Reducing class imbalance reduces every model's performance in terms of accuracy scores.**\\\n",
    "The notebooks copies are available for reference in the folder \"imbalanced\".\\\n",
    "The codes used are in this notebook."
   ]
  },
  {
   "cell_type": "markdown",
   "id": "9b76d68e-c59e-4e37-9787-15732794aea7",
   "metadata": {},
   "source": [
    "# preprocessing"
   ]
  },
  {
   "cell_type": "code",
   "execution_count": null,
   "id": "6a140be2-49a8-4360-88be-b71aca245fac",
   "metadata": {},
   "outputs": [],
   "source": [
    "# import libraries\n",
    "%run common_imports.py\n",
    "\n",
    "# load and split data\n",
    "%run load_and_split_data.py\n",
    "X_train, X_test, y_train, y_test = load_and_split_data()\n",
    "\n",
    "# scale data\n",
    "%run minmaxscaler.py\n",
    "X_train_scaled, X_test_scaled = scale_data(X_train, X_test)"
   ]
  },
  {
   "cell_type": "markdown",
   "id": "cab5e6f8-72a5-4fe8-9d7c-3ae26d4b98e9",
   "metadata": {},
   "source": [
    "# oversampling"
   ]
  },
  {
   "cell_type": "code",
   "execution_count": null,
   "id": "9ad1fbb4-83f2-4a5d-8b38-945435240345",
   "metadata": {},
   "outputs": [],
   "source": [
    "# Make a copy of X_train to avoid altering the original DataFrame\n",
    "X_train_cl = X_train.copy()\n",
    "\n",
    "# Add the 'is_canceled' column to X_train_cl\n",
    "X_train_cl[\"is_canceled\"] = y_train.values\n",
    "\n",
    "# Separate canceled and not_canceled instances\n",
    "canceled = X_train_cl[X_train_cl[\"is_canceled\"] == 1]\n",
    "not_canceled = X_train_cl[X_train_cl[\"is_canceled\"] == 0]\n",
    "\n",
    "# Visualize class distribution\n",
    "canceled_plt = X_train_cl[\"is_canceled\"].value_counts()\n",
    "canceled_plt.plot(kind=\"bar\")\n",
    "plt.show()\n",
    "\n",
    "# Oversample the minority class\n",
    "canceled_oversampled = resample(canceled,\n",
    "                                replace=True,\n",
    "                                n_samples=len(not_canceled),\n",
    "                                random_state=0)\n",
    "\n",
    "# Concatenate oversampled minority class with majority class\n",
    "train_over = pd.concat([canceled_oversampled, not_canceled])\n",
    "display(train_over, \"\")\n",
    "\n",
    "# Update X_train and y_train with the oversampled data\n",
    "X_train = train_over.drop(columns=[\"is_canceled\"])\n",
    "y_train = train_over[\"is_canceled\"]\n",
    "\n",
    "# Visualize class distribution after oversampling\n",
    "canceled_plt = train_over[\"is_canceled\"].value_counts()\n",
    "canceled_plt.plot(kind=\"bar\")\n",
    "plt.show()"
   ]
  },
  {
   "cell_type": "markdown",
   "id": "f6f8a629-1b07-45ba-8065-3933d6dcb340",
   "metadata": {},
   "source": [
    "# undersampling"
   ]
  },
  {
   "cell_type": "code",
   "execution_count": null,
   "id": "eed9caae-6499-4888-8a3e-e2660e09ca46",
   "metadata": {},
   "outputs": [],
   "source": [
    "# Make a copy of X_train to avoid altering the original DataFrame\n",
    "X_train_copy = X_train.copy()\n",
    "\n",
    "# Add the 'is_canceled' column to X_train_copy\n",
    "X_train_copy[\"is_canceled\"] = y_train.values\n",
    "\n",
    "# Separate canceled and not_canceled instances\n",
    "canceled = X_train_copy[X_train_copy[\"is_canceled\"] == 1]\n",
    "not_canceled = X_train_copy[X_train_copy[\"is_canceled\"] == 0]\n",
    "\n",
    "# Visualize class distribution\n",
    "canceled_plt = X_train_copy[\"is_canceled\"].value_counts()\n",
    "canceled_plt.plot(kind=\"bar\")\n",
    "plt.show()\n",
    "\n",
    "# Undersample the majority class\n",
    "not_canceled_undersampled = resample(not_canceled,\n",
    "                                      replace=True,\n",
    "                                      n_samples=len(canceled),\n",
    "                                      random_state=0)\n",
    "\n",
    "# Concatenate undersampled majority class with minority class\n",
    "train_under = pd.concat([not_canceled_undersampled, canceled])\n",
    "display(train_under, \"\")\n",
    "\n",
    "# Update X_train and y_train with the undersampled data\n",
    "X_train = train_under.drop(columns=[\"is_canceled\"])\n",
    "y_train = train_under[\"is_canceled\"]\n",
    "\n",
    "# Visualize class distribution after undersampling\n",
    "canceled_plt = train_under[\"is_canceled\"].value_counts()\n",
    "canceled_plt.plot(kind=\"bar\")\n",
    "plt.show()\n"
   ]
  },
  {
   "cell_type": "markdown",
   "id": "a8f0f71d-098b-4751-af6c-ed7a8ae33b36",
   "metadata": {},
   "source": [
    "# SMOTE"
   ]
  },
  {
   "cell_type": "code",
   "execution_count": null,
   "id": "1bc3d885-d1e0-4ddf-af72-c80edf488fac",
   "metadata": {},
   "outputs": [],
   "source": [
    "# Visualize class distribution before SMOTE\n",
    "canceled_plt_before = y_train.value_counts()\n",
    "canceled_plt_before.plot(kind=\"bar\")\n",
    "plt.show()\n",
    "\n",
    "# Apply SMOTE\n",
    "sm = SMOTE(random_state=1, sampling_strategy=1.0)\n",
    "X_train_resampled, y_train_resampled = sm.fit_resample(X_train, y_train)\n",
    "\n",
    "# Visualize class distribution after SMOTE\n",
    "canceled_plt_after = y_train_resampled.value_counts()\n",
    "canceled_plt_after.plot(kind=\"bar\")\n",
    "plt.show()"
   ]
  }
 ],
 "metadata": {
  "kernelspec": {
   "display_name": "Python 3 (ipykernel)",
   "language": "python",
   "name": "python3"
  },
  "language_info": {
   "codemirror_mode": {
    "name": "ipython",
    "version": 3
   },
   "file_extension": ".py",
   "mimetype": "text/x-python",
   "name": "python",
   "nbconvert_exporter": "python",
   "pygments_lexer": "ipython3",
   "version": "3.11.8"
  }
 },
 "nbformat": 4,
 "nbformat_minor": 5
}
