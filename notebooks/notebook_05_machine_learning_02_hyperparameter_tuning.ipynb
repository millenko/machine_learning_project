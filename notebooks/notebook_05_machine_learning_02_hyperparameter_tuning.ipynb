{
 "cells": [
  {
   "cell_type": "markdown",
   "id": "f793d269-a325-437e-aae4-18b6926b2b66",
   "metadata": {},
   "source": [
    "# table of contents\n",
    "1. [predictions, part II](#predictions,-part-II)\n",
    "2. [preprocessing](#preprocessing)\n",
    "3. [hyperparameter tuning](#hyperparameter-tuning)\n",
    "   1. [GridSearchCV](#GridSearchCV)\n",
    "      1. [unscaled](#unscaled)\n",
    "      2. [scaled](#scaled)\n",
    "   2. [RandomizedSearchCV](#RandomizedSearchCV)\n",
    "   3. [hyperparameter_tuning_results](#hyperparameter_tuning_results)\n",
    "4. [retrain the models with the best parameters](#retrain-the-models-with-the-best-parameters)\n",
    "   1. [compare accuracies](#compare-accuracies)"
   ]
  },
  {
   "cell_type": "markdown",
   "id": "bf672f43-8e8e-44ab-be03-2e62284468f4",
   "metadata": {
    "id": "bf672f43-8e8e-44ab-be03-2e62284468f4"
   },
   "source": [
    "# predictions, part II\n",
    "- drop columns: no\n",
    "- scaling: yes\n",
    "- **hyperparameter tuning: yes**\n",
    "- one-hot encoding: yes, the dataset was received encoded\n",
    "- resampling: no\n",
    "\n",
    "In the 1st part of this session, I'm finetuning hyperparameters of 7 models, each one with unscaled and scaled data, and by using 2 tuning techniques: GridSearchCV and RandomizedSearchCV.\\\n",
    "The main takeaways:\n",
    "- **RandomForestClassifier** remains the best perfomer, in all 4 scenarios.\n",
    "- Accuracy of each model in each scenario remains stable, in the range 80-86%.\n",
    "- The time it takes to do a search remains unaffected in 5 models, not fluctuating.\n",
    "- Only 2 models are greatly affected by scaling, 1 negatively and the other one positively.\n",
    "\n",
    "\n",
    "In the 2nd part of this session, I retrain the 7 models with the best parameters, and compare the accuracies to those from the previous session, when no parameters were used.\\\n",
    "The main takeaways:\n",
    "- The effect of the best parameters on the accuracy is negligent for 4/7 models; 2 models improve by 3%, and 1 model drops by 6%.\n",
    "- **RandomForestClassifier** remains the best perfomer."
   ]
  },
  {
   "cell_type": "markdown",
   "id": "7865c603-e653-4229-8705-6bf6acdfdb87",
   "metadata": {
    "id": "7865c603-e653-4229-8705-6bf6acdfdb87"
   },
   "source": [
    "# preprocessing"
   ]
  },
  {
   "cell_type": "code",
   "execution_count": null,
   "id": "30ad8d5d-10fc-4f9f-b4bc-644b8e5023e8",
   "metadata": {
    "colab": {
     "base_uri": "https://localhost:8080/",
     "height": 454
    },
    "executionInfo": {
     "elapsed": 9,
     "status": "error",
     "timestamp": 1714734954688,
     "user": {
      "displayName": "Mile.R",
      "userId": "18376165564151968553"
     },
     "user_tz": -120
    },
    "id": "30ad8d5d-10fc-4f9f-b4bc-644b8e5023e8",
    "outputId": "e5fa3cc0-f577-4b06-8fe9-aac5752427fd"
   },
   "outputs": [],
   "source": [
    "# import libraries\n",
    "%run common_imports.py\n",
    "\n",
    "# load and split data\n",
    "%run load_and_split_data.py\n",
    "X_train, X_test, y_train, y_test = load_and_split_data()\n",
    "\n",
    "# scale data\n",
    "%run minmaxscaler.py\n",
    "X_train_scaled, X_test_scaled = scale_data(X_train, X_test)"
   ]
  },
  {
   "cell_type": "markdown",
   "id": "5fa83ddf-6e96-4b4e-a0a7-c87a9b6a0904",
   "metadata": {
    "id": "5fa83ddf-6e96-4b4e-a0a7-c87a9b6a0904"
   },
   "source": [
    "# hyperparameter tuning\n",
    "The code below performs hyperparameter tuning on the given models, with given parameters.\\\n",
    "It can use both unscaled and scaled data, and it saves the results to a csv file.\\\n",
    "It contains 3 functions:\n",
    "  1. Perform grid search by using the param_grid/s and model/s\n",
    "     - the function will use different variables and parameters, depending on the choice of unscaled or scaled data, and search model.\n",
    "  2. Save results to a new (or append to an existing) csv.\n",
    "     - Results are:\n",
    "       - model\n",
    "       - best_parameters\n",
    "       - accuracy_in_%\n",
    "       - runtime_in_seconds (the time taken to do the search)\n",
    "       - source (identifies if the calculation used unscaled or unscaled data, grid_search or randomized_search)\n",
    "       - classification_report\n",
    "  3. Helper function to perform search, save and print results."
   ]
  },
  {
   "cell_type": "code",
   "execution_count": null,
   "id": "16a14ade-d5b5-4922-ba95-fdaf48d84351",
   "metadata": {},
   "outputs": [],
   "source": [
    "from hyperparameter_tuning import search\n",
    "\n",
    "# Define the grids\n",
    "param_grids = {\n",
    "    \"KNeighborsClassifier\": {\n",
    "        \"algorithm\": [\"auto\", \"ball_tree\", \"brute\", \"kd_tree\"],\n",
    "        \"leaf_size\": range(10, 31, 10),\n",
    "        \"n_neighbors\": range(1, 10),\n",
    "        \"p\": [1, 2],\n",
    "        \"weights\": [\"uniform\", \"distance\"]\n",
    "    },\n",
    "    \"LogisticRegression\": [\n",
    "        {\"C\": [0.001, 0.01, 0.1, 1, 10], \"max_iter\": range(7000, 10001, 1000), \"penalty\": [\"l2\"], \"solver\": [\"newton-cg\", \"lbfgs\", \"sag\"]},\n",
    "        {\"C\": [0.001, 0.01, 0.1, 1, 10], \"max_iter\": range(7000, 10001, 1000), \"penalty\": [\"l1\", \"l2\"], \"solver\": [\"liblinear\", \"saga\"]}\n",
    "    ],\n",
    "    \"DecisionTreeClassifier\": {\n",
    "        \"max_depth\": range(1, 21),\n",
    "        \"min_samples_split\": range(2, 11),\n",
    "        \"min_samples_leaf\": range(1, 5)\n",
    "    },\n",
    "    \"BaggingClassifier\": {\n",
    "        \"bootstrap\": [True, False],\n",
    "        \"bootstrap_features\": [True, False],\n",
    "        \"max_features\": [0.5, 1.0],\n",
    "        \"max_samples\": [0.5, 1.0],\n",
    "        \"n_estimators\": range(10, 110, 10)\n",
    "    },\n",
    "    \"RandomForestClassifier\": {\n",
    "        \"bootstrap\": [True, False],\n",
    "        \"max_features\": [0.5, 1.0],\n",
    "        \"n_estimators\": range(10, 110, 10)\n",
    "    },\n",
    "    \"AdaBoostClassifier\": {\n",
    "        \"algorithm\": [\"SAMME\"],\n",
    "        \"n_estimators\": range(10, 110, 10),\n",
    "        \"learning_rate\": [0.01, 0.1, 0.5, 1.0]\n",
    "    },\n",
    "    \"GradientBoostingClassifier\": {\n",
    "        \"learning_rate\": [0.01, 0.1, 0.5],\n",
    "        \"max_depth\": range(3, 8),\n",
    "        \"min_samples_leaf\": range(1, 5),\n",
    "        \"min_samples_split\": range(2, 11),\n",
    "        \"n_estimators\": range(10, 110, 10),\n",
    "        \"subsample\": [0.5, 0.75, 1.0]\n",
    "    }\n",
    "}\n",
    "\n",
    "# List of models\n",
    "models = [\n",
    "    KNeighborsClassifier,\n",
    "    LogisticRegression,\n",
    "    DecisionTreeClassifier,\n",
    "    RandomForestClassifier,\n",
    "    GradientBoostingClassifier,\n",
    "    BaggingClassifier,\n",
    "    AdaBoostClassifier\n",
    "]"
   ]
  },
  {
   "cell_type": "markdown",
   "id": "5a86508a-f480-4dad-8233-d54d97d1fbcc",
   "metadata": {},
   "source": [
    "## GridSearchCV\n",
    "I demonstrate the single model evaluations on the unscaled data, followed by a batch model evaluation on the scaled data.\\\n",
    "I do this to test for the runtime difference between the approaches, and with presumption that the scaled data runs faster.\\\n",
    "Conclusion: the scaled data ends up taking 2h longer than the unscaled, no improvement in accuracy."
   ]
  },
  {
   "cell_type": "markdown",
   "id": "92f2c29d-1150-4a23-b83d-47315a839faf",
   "metadata": {},
   "source": [
    "### unscaled"
   ]
  },
  {
   "cell_type": "code",
   "execution_count": null,
   "id": "460d1d99-2749-478e-9e9b-7a0fae1be61e",
   "metadata": {},
   "outputs": [],
   "source": [
    "# KNeighborsClassifier\n",
    "search(KNeighborsClassifier, \"KNeighborsClassifier\", param_grids, search_type='grid', X_train=X_train, y_train=y_train, X_test=X_test, y_test=y_test, scaled=False)"
   ]
  },
  {
   "cell_type": "code",
   "execution_count": null,
   "id": "dd275c5b-9210-463c-b846-07aa215270b4",
   "metadata": {},
   "outputs": [],
   "source": [
    "# LogisticRegression\n",
    "search(LogisticRegression, \"LogisticRegression\", param_grids, search_type='grid', X_train=X_train, y_train=y_train, X_test=X_test, y_test=y_test, scaled=False)"
   ]
  },
  {
   "cell_type": "code",
   "execution_count": null,
   "id": "f7beeb7e-fb0b-4d4e-b6da-c6748f6d0902",
   "metadata": {},
   "outputs": [],
   "source": [
    "# DecisionTreeClassifier\n",
    "search(DecisionTreeClassifier, \"DecisionTreeClassifier\", param_grids, search_type='grid', X_train=X_train, y_train=y_train, X_test=X_test, y_test=y_test, scaled=False)"
   ]
  },
  {
   "cell_type": "code",
   "execution_count": null,
   "id": "ae3d3110-a611-4b7e-8376-a10ac87c88dd",
   "metadata": {},
   "outputs": [],
   "source": [
    "# BaggingClassifier\n",
    "search(BaggingClassifier, \"BaggingClassifier\", param_grids, search_type='grid', X_train=X_train, y_train=y_train, X_test=X_test, y_test=y_test, scaled=False)"
   ]
  },
  {
   "cell_type": "code",
   "execution_count": null,
   "id": "ac810ea3-3f14-42a6-9bfa-a0ff32f8e0e1",
   "metadata": {},
   "outputs": [],
   "source": [
    "# RandomForestClassifier\n",
    "search(RandomForestClassifier, \"RandomForestClassifier\", param_grids, search_type='grid', X_train=X_train, y_train=y_train, X_test=X_test, y_test=y_test, scaled=False)"
   ]
  },
  {
   "cell_type": "code",
   "execution_count": null,
   "id": "019aa219-0963-4876-9dd9-d0a157ad1863",
   "metadata": {},
   "outputs": [],
   "source": [
    "# AdaBoostClassifier\n",
    "search(AdaBoostClassifier, \"AdaBoostClassifier\", param_grids, search_type='grid', X_train=X_train, y_train=y_train, X_test=X_test, y_test=y_test, scaled=False)"
   ]
  },
  {
   "cell_type": "code",
   "execution_count": null,
   "id": "ef8dfe96-67d2-4b13-ac0d-a23c2a20add9",
   "metadata": {},
   "outputs": [],
   "source": [
    "# GradientBoostingClassifier\n",
    "search(GradientBoostingClassifier, \"GradientBoostingClassifier\", param_grids, search_type='grid', X_train=X_train, y_train=y_train, X_test=X_test, y_test=y_test, scaled=False)"
   ]
  },
  {
   "cell_type": "markdown",
   "id": "245ee562-ad23-4e61-a1ea-d300d5678c52",
   "metadata": {},
   "source": [
    "### scaled"
   ]
  },
  {
   "cell_type": "code",
   "execution_count": null,
   "id": "14a06383-6dd0-4a2f-8e7c-16d5b5b13b7f",
   "metadata": {
    "scrolled": true
   },
   "outputs": [],
   "source": [
    "# Loop through models and their corresponding parameter grids\n",
    "for model_class in models:\n",
    "    model_name = model_class.__name__\n",
    "    # Perform grid search with scaled data\n",
    "    search(model_class, model_name, param_grids, search_type='grid', \n",
    "           X_train=X_train_scaled, y_train=y_train, X_test=X_test_scaled, y_test=y_test, \n",
    "           scaled=True)"
   ]
  },
  {
   "cell_type": "markdown",
   "id": "49e9ef01-7267-4429-aed5-f617451aadd3",
   "metadata": {},
   "source": [
    "## RandomizedSearchCV"
   ]
  },
  {
   "cell_type": "code",
   "execution_count": null,
   "id": "374797c5",
   "metadata": {
    "scrolled": true
   },
   "outputs": [],
   "source": [
    "# Perform randomized search with unscaled and scaled data\n",
    "for model_class in models:\n",
    "    model_name = model_class.__name__\n",
    "    search(model_class, model_name, param_grids, search_type='random', \n",
    "           X_train=X_train, y_train=y_train, X_test=X_test, y_test=y_test, \n",
    "           scaled=False)\n",
    "    search(model_class, model_name, param_grids, search_type='random', \n",
    "           X_train=X_train_scaled, y_train=y_train, X_test=X_test_scaled, y_test=y_test, \n",
    "           scaled=True)"
   ]
  },
  {
   "cell_type": "markdown",
   "id": "01f5fed7-e016-4fce-b973-fec108274e67",
   "metadata": {},
   "source": [
    "## hyperparameter_tuning_results"
   ]
  },
  {
   "cell_type": "code",
   "execution_count": null,
   "id": "28820b29-24ec-4415-a1ec-0a5eb0bc2408",
   "metadata": {},
   "outputs": [],
   "source": [
    "hyperparameter_tuning_results = pd.read_csv(\"../data/hyperparameter_tuning_results.csv\")\n",
    "hyperparameter_tuning_results"
   ]
  },
  {
   "cell_type": "code",
   "execution_count": null,
   "id": "a93f5d29-8187-421a-8912-67310a31c48b",
   "metadata": {},
   "outputs": [],
   "source": [
    "# Look for the duplicated best_parameters\n",
    "hyperparameter_tuning_results[\"best_parameters\"].duplicated()"
   ]
  },
  {
   "cell_type": "code",
   "execution_count": null,
   "id": "1e73cdda-c4c3-48ac-85d5-8cf02255bdf2",
   "metadata": {},
   "outputs": [],
   "source": [
    "# Delete the duplicates to save time\n",
    "hyperparameter_tuning_results = hyperparameter_tuning_results.drop_duplicates(subset=[\"best_parameters\"])\n",
    "hyperparameter_tuning_results[\"best_parameters\"].duplicated()\n",
    "hyperparameter_tuning_results.to_csv(\"../data/hyperparameter_tuning_results.csv\", index=False)"
   ]
  },
  {
   "cell_type": "markdown",
   "id": "e0dcfa2d-ddea-4add-9833-6b04b3bfe158",
   "metadata": {},
   "source": [
    "# retrain the models with the best parameters"
   ]
  },
  {
   "cell_type": "code",
   "execution_count": null,
   "id": "8296984b-cdcf-4177-b654-23f52f1557ca",
   "metadata": {},
   "outputs": [],
   "source": [
    "from train_with_best_hyperparameters import process_hyperparameter_tuning_results\n",
    "\n",
    "process_hyperparameter_tuning_results(\n",
    "    input_file=\"../data/hyperparameter_tuning_results.csv\", \n",
    "    output_file=\"../data/accuracies_with_parameters.csv\",\n",
    "    X_train=X_train,\n",
    "    X_test=X_test,\n",
    "    y_train=y_train,\n",
    "    X_train_scaled=X_train_scaled,\n",
    "    X_test_scaled=X_test_scaled,\n",
    "    y_test=y_test\n",
    ")"
   ]
  },
  {
   "cell_type": "markdown",
   "id": "df074c05-a9a7-4272-99c5-74cbdd055322",
   "metadata": {},
   "source": [
    "## compare accuracies\n",
    "The effect of the best parameters on the accuracy is negligent for 4/7 models; 2 models improve by 3%, and 1 model drops by 6%."
   ]
  },
  {
   "cell_type": "code",
   "execution_count": null,
   "id": "2137b5f0-8cb5-4c60-b6fc-980cf2934a56",
   "metadata": {},
   "outputs": [],
   "source": [
    "# Load the data\n",
    "accuracies_without_parameters = pd.read_csv(\"../data/accuracies_without_parameters.csv\")\n",
    "accuracies_with_parameters = pd.read_csv(\"../data/accuracies_with_parameters.csv\")\n",
    "\n",
    "# Identify the best accuracy for each model in each dataframe\n",
    "idx_without_params = accuracies_without_parameters.groupby(\"model\")[\"accuracy_in_%\"].idxmax()\n",
    "best_without_params = accuracies_without_parameters.loc[idx_without_params, [\"model\", \"estimator\", \"accuracy_in_%\", \"source\"]].reset_index(drop=True)\n",
    "best_without_params[\"dataset\"] = \"original\"\n",
    "\n",
    "idx_with_params = accuracies_with_parameters.groupby(\"model\")[\"accuracy_in_%\"].idxmax()\n",
    "best_with_params = accuracies_with_parameters.loc[idx_with_params, [\"model\", \"best_parameters\", \"accuracy_in_%\", \"source\"]].reset_index(drop=True)\n",
    "best_with_params[\"dataset\"] = \"parametered\"\n",
    "\n",
    "# Combine the results into a single dataframe\n",
    "combined_results = pd.concat([best_without_params, best_with_params], ignore_index=True)\n",
    "\n",
    "# Sort the dataframe by top performers\n",
    "accuracies_sorted = combined_results.sort_values(by=[\"accuracy_in_%\", \"model\", \"dataset\"], ascending=[False, True, True])\n",
    "\n",
    "# Save the sorted dataframe\n",
    "accuracies_sorted.to_csv(\"../data/accuracies_combined.csv\", index=False)\n",
    "\n",
    "# Display the dataframe\n",
    "accuracies_sorted"
   ]
  },
  {
   "cell_type": "markdown",
   "id": "57670d99-4889-486d-a0e3-58a9cd9e9ea7",
   "metadata": {},
   "source": [
    "Next: notebook_06_machine_learning_03_resampling"
   ]
  }
 ],
 "metadata": {
  "accelerator": "GPU",
  "colab": {
   "gpuType": "T4",
   "provenance": []
  },
  "kernelspec": {
   "display_name": "Python 3 (ipykernel)",
   "language": "python",
   "name": "python3"
  },
  "language_info": {
   "codemirror_mode": {
    "name": "ipython",
    "version": 3
   },
   "file_extension": ".py",
   "mimetype": "text/x-python",
   "name": "python",
   "nbconvert_exporter": "python",
   "pygments_lexer": "ipython3",
   "version": "3.11.8"
  }
 },
 "nbformat": 4,
 "nbformat_minor": 5
}
