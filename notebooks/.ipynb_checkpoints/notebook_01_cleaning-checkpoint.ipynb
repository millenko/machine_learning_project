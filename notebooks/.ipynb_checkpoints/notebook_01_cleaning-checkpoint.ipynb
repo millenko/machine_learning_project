{
 "cells": [
  {
   "cell_type": "markdown",
   "id": "0c32f7cb-c9bf-416d-80f9-4636763506ba",
   "metadata": {},
   "source": [
    "A chain of hotels has just hired me as a data analyst. They have noticed that the cancellation rate has risen in the past few years. This often leads to rooms that are left unrented for multiple days at a time.\n",
    "\n",
    "Hotel management is interested in developing a model to predict the likelihood that a customer will cancel their reservation. If successful, this could be used to optimize their booking service and anticipate when cancellations will occur.\n",
    "\n",
    "I'm going to prepare a report that is accessible to a broad audience. It should outline my motivation, steps, findings, and conclusions."
   ]
  },
  {
   "cell_type": "markdown",
   "id": "driving-sunglasses",
   "metadata": {},
   "source": [
    "# Hotel Booking Demand\n",
    "This dataset consists of booking data from a city hotel and a resort hotel.\\\n",
    "It includes many details about the bookings, including room specifications, the length of stay, the time between the booking and the stay, whether the booking was canceled, and how the booking was made."
   ]
  },
  {
   "cell_type": "markdown",
   "id": "8d155fe4-fd70-4ed9-9cfd-a2ab9ac26210",
   "metadata": {},
   "source": [
    "# Data Dictionary\n",
    "_Note: For binary variables: `1` = true and `0` = false._\n",
    "\n",
    "| Column                                                                                                                                                                                                          | Explanation                                                                                                                            |   |   |   |\n",
    "|-----------------------------------------------------------------------------------------------------------------------------------------------------------------------------------------------------------------|----------------------------------------------------------------------------------------------------------------------------------------|---|---|---|\n",
    "| is_canceled                                                                                                                                                                                                     | Binary variable indicating whether a booking was canceled                                                                              |   |   |   |\n",
    "| lead_time                                                                                                                                                                                                       | Number of days between booking date and arrival date                                                                                   |   |   |   |\n",
    "| arrival_date_week_number, arrival_date_day_of_month, arrival_date_month                                                                                                                                         | Week number, day date, and month number of arrival date                                                                                |   |   |   |\n",
    "| stays_in_weekend_nights, stays_in_week_nights                                                                                                                                                                   | Number of weekend nights (Saturday and Sunday) and weeknights (Monday to Friday) the customer booked                                   |   |   |   |\n",
    "| adults, children, babies                                                                                                                                                                                        | Number of adults, children, babies booked for the stay                                                                                 |   |   |   |\n",
    "| is_repeated_guest                                                                                                                                                                                               | Binary variable indicating whether the customer was a repeat guest                                                                     |   |   |   |\n",
    "| previous_cancellations                                                                                                                                                                                          | Number of prior bookings that were canceled by the customer                                                                            |   |   |   |\n",
    "| previous_bookings_not_canceled                                                                                                                                                                                  | Number of prior bookings that were not canceled by the customer                                                                        |   |   |   |\n",
    "| required_car_parking_spaces                                                                                                                                                                                     | Number of parking spaces requested by the customer                                                                                     |   |   |   |\n",
    "| total_of_special_requests                                                                                                                                                                                       | Number of special requests made by the customer                                                                                        |   |   |   |\n",
    "| avg_daily_rate                                                                                                                                                                                                  | Average daily rate, as defined by dividing the sum of all lodging transactions by the total number of staying nights                   |   |   |   |\n",
    "| booked_by_company                                                                                                                                                                                               | Binary variable indicating whether a company booked the booking                                                                        |   |   |   |\n",
    "| booked_by_agent                                                                                                                                                                                                 | Binary variable indicating whether an agent booked the booking                                                                         |   |   |   |\n",
    "| hotel_City                                                                                                                                                                                                      | Binary variable indicating whether the booked hotel is a \"City Hotel\"                                                                  |   |   |   |\n",
    "| hotel_Resort                                                                                                                                                                                                    | Binary variable indicating whether the booked hotel is a \"Resort Hotel\"                                                                |   |   |   |\n",
    "| meal_BB                                                                                                                                                                                                         | Binary variable indicating whether a bed & breakfast meal was booked                                                                   |   |   |   |\n",
    "| meal_HB                                                                                                                                                                                                         | Binary variable indicating whether a half board meal was booked                                                                        |   |   |   |\n",
    "| meal_FB                                                                                                                                                                                                         | Binary variable indicating whether a full board meal was booked                                                                        |   |   |   |\n",
    "| meal_No_meal                                                                                                                                                                                                    | Binary variable indicating whether there was no meal package booked                                                                    |   |   |   |\n",
    "| market_segment_Aviation, market_segment_Complementary, market_segment_Corporate, market_segment_Direct, market_segment_Groups, market_segment_Offline_TA_TO, market_segment_Online_TA, market_segment_Undefined | Indicates market segment designation with a value of 1. \"TA\"= travel agent, \"TO\"= tour operators                                       |   |   |   |\n",
    "| distribution_channel_Corporate, distribution_channel_Direct, distribution_channel_GDS, distribution_channel_TA_TO, distribution_channel_Undefined                                                               | Indicates booking distribution channel with a value of 1. \"TA\"= travel agent, \"TO\"= tour operators, \"GDS\" = Global Distribution System |   |   |   |\n",
    "| reserved_room_type_A, reserved_room_type_B, reserved_room_type_C, reserved_room_type_D, reserved_room_type_E, reserved_room_type_F, reserved_room_type_G, reserved_room_type_H, reserved_room_type_L            | Indicates code of room type reserved with a value of 1. Code is presented instead of designation for anonymity reasons                 |   |   |   |\n",
    "| deposit_type_No_Deposit                                                                                                                                                                                         | Binary variable indicating whether a deposit was made                                                                                  |   |   |   |\n",
    "| deposit_type_Non_Refund                                                                                                                                                                                         | Binary variable indicating whether a deposit was made in the value of the total stay cost                                              |   |   |   |\n",
    "| deposit_type_Refundable                                                                                                                                                                                         | Binary variable indicating whether a deposit was made with a value under the total stay cost                                           |   |   |   |\n",
    "| customer_type_Contract                                                                                                                                                                                          | Binary variable indicating whether the booking has an allotment or other type of contract associated to it                             |   |   |   |\n",
    "| customer_type_Group                                                                                                                                                                                             | Binary variable indicating whether the booking is associated to a group                                                                |   |   |   |\n",
    "| customer_type_Transient                                                                                                                                                                                         | Binary variable indicating whether the booking is not part of a group or contract, and is not associated to other transient booking    |   |   |   |\n",
    "| customer_type_Transient-Party                                                                                                                                                                                   | Binary variable indicating whether the booking is transient, but is associated to at least another transient booking                   |   |   |   |"
   ]
  },
  {
   "cell_type": "markdown",
   "id": "67ce7331-1ef0-4d6d-ab4c-883e57ddc8b0",
   "metadata": {},
   "source": [
    "[Source](https://www.kaggle.com/jessemostipak/hotel-booking-demand/) and [license](https://creativecommons.org/licenses/by/4.0/) of data. \n",
    "\n",
    "**Citation**: The data is originally from an article called [Hotel booking demand datasets](https://www.sciencedirect.com/science/article/pii/S2352340918315191) by Nuno Antonio, Ana de Almeida, and Luis Nunes. It was cleaned by Thomas Mock and Antoine Bichat for [#TidyTuesday during the week of February 11th, 2020](https://github.com/rfordatascience/tidytuesday/blob/master/data/2020/2020-02-11/readme.md)."
   ]
  },
  {
   "cell_type": "markdown",
   "id": "320bd845-355d-4d22-a28a-ff1ef8a74a09",
   "metadata": {},
   "source": [
    "# Data exploration"
   ]
  },
  {
   "cell_type": "code",
   "execution_count": null,
   "id": "e1a14e5f",
   "metadata": {
    "colab": {},
    "colab_type": "code",
    "executionCancelledAt": null,
    "executionTime": 433,
    "id": "EMQfyC7GUNhT",
    "lastExecutedAt": 1712585442634,
    "lastExecutedByKernel": "a0b6f85f-4c04-4e05-9c0f-4920ad3e379d",
    "lastScheduledRunId": null,
    "lastSuccessfullyExecutedCode": "import pandas as pd\nbookings = pd.read_csv(\"hotel_bookings_clean.csv\")\nprint(bookings.shape)\nbookings.head(100)",
    "outputsMetadata": {
     "0": {
      "height": 38,
      "type": "stream"
     },
     "1": {
      "height": 321,
      "type": "dataFrame"
     }
    },
    "scrolled": true
   },
   "outputs": [],
   "source": [
    "import pandas as pd\n",
    "df = pd.read_csv(\"../data/01.csv\")\n",
    "print(df.shape)\n",
    "display(df.head(61))\n",
    "display(df.tail(61))"
   ]
  },
  {
   "cell_type": "code",
   "execution_count": null,
   "id": "c91fef11-3431-4628-8b72-257bfa6b6a1f",
   "metadata": {
    "scrolled": true
   },
   "outputs": [],
   "source": [
    "\"\"\"\n",
    "By default, panda methods head and tail give preview of maximum 20 columns, 10 from each side of a dataframe.\n",
    "The current df has 53 columns, so the default preview doesn't suffice.\n",
    "The following setting should adjust this and return the preview of all the 53 columns.\n",
    "\"\"\"\n",
    "pd.set_option('display.max_columns', None)\n",
    "display(df.head(61))\n",
    "display(df.tail(61))"
   ]
  },
  {
   "cell_type": "code",
   "execution_count": null,
   "id": "3e1ef6f0-b1b2-4209-b72c-468850c22984",
   "metadata": {
    "scrolled": true
   },
   "outputs": [],
   "source": [
    "# \"children\" values look like floats. is dtype float? why?\n",
    "df.info()"
   ]
  },
  {
   "cell_type": "markdown",
   "id": "af32c2e0-664f-42f6-9c22-04970db4977c",
   "metadata": {},
   "source": [
    "# Data cleaning"
   ]
  },
  {
   "cell_type": "code",
   "execution_count": null,
   "id": "23d153b7-40a4-4d94-936d-4a193bbaaebc",
   "metadata": {},
   "outputs": [],
   "source": [
    "#df[\"children\"] = df[\"children\"].astype(int)\n",
    "#df\n",
    "# Attempt to immediately convert \"children\" column dtype to integer (before I forget) fails, due to NaN values.\n",
    "# So, let's deal with the NaNs."
   ]
  },
  {
   "cell_type": "code",
   "execution_count": null,
   "id": "fdcc91af-c41d-431d-ae63-6aa35832fafb",
   "metadata": {
    "scrolled": true
   },
   "outputs": [],
   "source": [
    "df.isna().sum()\n",
    "\n",
    "# \"children\" is the only column with NaN values, totally 4."
   ]
  },
  {
   "cell_type": "code",
   "execution_count": null,
   "id": "3af78af0-42a0-4102-bf13-cdd9bbffba1e",
   "metadata": {
    "scrolled": true
   },
   "outputs": [],
   "source": [
    "# 4 NaN values / 119210 entries is a negligent proportion, so whatever we do with NaN is irrelevant. Let's drop them.\n",
    "\n",
    "df = df.dropna()\n",
    "df"
   ]
  },
  {
   "cell_type": "code",
   "execution_count": null,
   "id": "a8151f1d-1154-4372-a2b3-6d67d6f7a03d",
   "metadata": {
    "scrolled": true
   },
   "outputs": [],
   "source": [
    "for column in df.columns:\n",
    "    print(df[column].value_counts())\n",
    "    print()"
   ]
  },
  {
   "cell_type": "code",
   "execution_count": null,
   "id": "3229610f-2bbd-45c6-aae2-69013d6e3cf4",
   "metadata": {},
   "outputs": [],
   "source": [
    "# Drop the columns which give no information.\n",
    "df = df.drop([\"market_segment_Undefined\", \"distribution_channel_Undefined\"], axis=1)\n",
    "df"
   ]
  },
  {
   "cell_type": "code",
   "execution_count": null,
   "id": "f07594a1-7bae-48db-bb21-dfeffeecc346",
   "metadata": {
    "scrolled": true
   },
   "outputs": [],
   "source": [
    "df[\"children\"] = df[\"children\"].astype(int)\n",
    "df.info()\n",
    "\n",
    "# Now all the data is in an appropriate type. Let's check for duplicates."
   ]
  },
  {
   "cell_type": "code",
   "execution_count": null,
   "id": "b047c12b-920b-4180-ac84-9ccca024c3d0",
   "metadata": {},
   "outputs": [],
   "source": [
    "df.duplicated().any()\n",
    "#There are duplicates. How many?"
   ]
  },
  {
   "cell_type": "code",
   "execution_count": null,
   "id": "c7b564ef-4601-4e43-b704-2f5d812b3dda",
   "metadata": {},
   "outputs": [],
   "source": [
    "df.duplicated().sum()\n",
    "# There are 36024 duplicates. Where are they?"
   ]
  },
  {
   "cell_type": "code",
   "execution_count": null,
   "id": "772a0835-ca76-416c-a703-5893d6b90f4a",
   "metadata": {},
   "outputs": [],
   "source": [
    "df[df.duplicated(keep=False)]"
   ]
  },
  {
   "cell_type": "markdown",
   "id": "8a775d0a-f1ab-48ec-bb8e-6245a2419846",
   "metadata": {},
   "source": [
    "1/3 of rows (45039/119210) in the df are duplicated.\\\n",
    "Is this a problem, though? Maybe, but it's hard to know.\\\n",
    "This df is expected to have duplicated rows.\\\n",
    "More than half of the columns are categorical variables with binary values (1,0).\\\n",
    "Out of 119210 entries/guests, it's normal that many guests had identical preferences and booking choices.\\\n",
    "So, what to do with these duplicates? Nothing."
   ]
  },
  {
   "cell_type": "markdown",
   "id": "b2aab201-455d-468b-97f6-7d16acee02f0",
   "metadata": {},
   "source": [
    "# Statistical summary"
   ]
  },
  {
   "cell_type": "code",
   "execution_count": null,
   "id": "2c58b872-d35f-49ce-8af6-bb83810191e0",
   "metadata": {},
   "outputs": [],
   "source": [
    "df.describe()"
   ]
  },
  {
   "cell_type": "markdown",
   "id": "ee9305e5-445f-43d2-b52c-f37e3f6b7919",
   "metadata": {},
   "source": [
    "Of **119206 bookings**:\n",
    "- **37% were canceled**\n",
    "- rooms were **booked 2 (median) - 3,5 (mean) months ahead**\n",
    "  - median < mean = more people tend to book closer to the stay-date\n",
    "  - but some far ahead bookings (2 years) drag the distribution tail to the right\n",
    "- **peak arrivals** are **mid-june to mid-july**, showing by the:\n",
    "  - arrival_date_week_number: 27 (mean) - 28 (median),\n",
    "  - arrival_date_day_of_month: 15 \n",
    "  - arrival_date_month: 6.6 (mean) - 7 (median)\n",
    "- bookings include at least **1 weekend day and/or 2 weekdays**\n",
    "- bookings were made for **2 adults**, no children or babies\n",
    "- **3% repeated guests**\n",
    "- **no history of cancelations**, which aligns with 97% being first-timers\n",
    "- **car parking space not required**\n",
    "- **no special requests**\n",
    "- **daily rate: 95 (median) - 102 (mean)**\n",
    "- **86% agent** bookings, 6% company bookings\n",
    "- **66% city hotel** bookings, 34% resort bookings\n",
    "- meals: **77% bed&breakfast**, 12% half-breakfast, 10% no meal, 1% full breakfast\n",
    "- market segment: **47% online travel agent (TA)**, 20% offline TA, 17% groups, 11% direct, 4% corporate, 1% other segments\n",
    "- distribution channel: **82% TA**, 12% direct, 5% corporate\n",
    "- **72% reserved rooms were type A**, 16% D, 5% E, 7% other 6 types\n",
    "- **88% booked without deposit**, 12% with a deposit\n",
    "- **75% individual (transient) bookings**, 21% transient and associated to another transient booking, 4% other arrangements.\n",
    "\n",
    "**Outliers:**\n",
    "- 2 years lead time\n",
    "- 19 weekends\n",
    "- 50 days\n",
    "- 55 adults\n",
    "- 10 children\n",
    "- 10 babies\n",
    "- 26 cancelations\n",
    "- 8 car parking spaces\n",
    "- 5 special requests\n",
    "-daily rate: -6.38\n",
    "- daily rate: 5400"
   ]
  },
  {
   "cell_type": "code",
   "execution_count": null,
   "id": "bbfdfd43-dcbd-4831-95aa-abb6a73a847f",
   "metadata": {},
   "outputs": [],
   "source": [
    "df.to_csv(\"../data/02.csv\", index=False)"
   ]
  },
  {
   "cell_type": "markdown",
   "id": "515d2b41-4759-4139-b75d-2fb7114e92e9",
   "metadata": {},
   "source": [
    "This is the end of the notebook_01.\\\n",
    "The next notebook is titled notebook_02_univariate_analysis and it contains:\n",
    "- divide between categorical and numerical variables\n",
    "- analyses of each group and variables within\n",
    "- visual check for normality\n",
    "- shape of distribution\n",
    "- normality test."
   ]
  }
 ],
 "metadata": {
  "colab": {
   "name": "Machine_Learning_with_XGBoost_solution.ipynb",
   "provenance": []
  },
  "editor": "DataCamp Workspace",
  "kernelspec": {
   "display_name": "Python 3 (ipykernel)",
   "language": "python",
   "name": "python3"
  },
  "language_info": {
   "codemirror_mode": {
    "name": "ipython",
    "version": 3
   },
   "file_extension": ".py",
   "mimetype": "text/x-python",
   "name": "python",
   "nbconvert_exporter": "python",
   "pygments_lexer": "ipython3",
   "version": "3.11.8"
  }
 },
 "nbformat": 4,
 "nbformat_minor": 5
}
