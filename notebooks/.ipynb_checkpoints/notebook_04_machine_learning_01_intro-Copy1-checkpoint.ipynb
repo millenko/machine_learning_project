{
 "cells": [
  {
   "cell_type": "markdown",
   "id": "9096ef94-048d-4a5e-8d6b-8e7cf4bc87b5",
   "metadata": {},
   "source": [
    "# Predictions, part I\n",
    "- drop columns: no\n",
    "- normalization: no\n",
    "- hyperparameter tuning: no\n",
    "- one-hot encoding: yes, the dataset was found encoded\n",
    "- oversampling: no\n",
    "\n",
    "In this session, I tested every model's performance on unscaled dataset.\\\n",
    "**RandomForestClassifier seems like the best performer**, as a standalone model, and as a base estimator to 2 ensemble methods.\\\n",
    "These are the best accuracy scores, expressed in %, sorted in descending order:\n",
    "\n",
    "- RandomForestClassifier = 86.31\n",
    "- BaggingClassifier(RandomForestClassifier) = 86.18\n",
    "- AdaBoostClassifier(RandomForestClassifier) = 86.01\n",
    "- DecisionTreeClassifier = 82.35\n",
    "- GradientBoostingClassifier = 81.49\n",
    "- LogisticRegression = 79.94\n",
    "- KNeighborsClassifier = 77.2\n",
    "\n",
    "In the next session, I will scale the data and repeat these tests, to compare the scores."
   ]
  },
  {
   "cell_type": "markdown",
   "id": "c4a40560-ee3a-45be-b497-bc77db6d5392",
   "metadata": {},
   "source": [
    "# train_test_split"
   ]
  },
  {
   "cell_type": "code",
   "execution_count": null,
   "id": "30ad8d5d-10fc-4f9f-b4bc-644b8e5023e8",
   "metadata": {},
   "outputs": [],
   "source": [
    "%run common_imports.py\n",
    "\n",
    "df = pd.read_csv(\"../data/02.csv\")\n",
    "features = df.drop(columns=[\"is_canceled\"])\n",
    "target = df[\"is_canceled\"]\n",
    "\n",
    "X_train, X_test, y_train, y_test = train_test_split(features, target, test_size=0.20, random_state=0)\n",
    "\n",
    "display(X_train.head(), \"\")\n",
    "display(y_train.head(), \"\")"
   ]
  },
  {
   "cell_type": "markdown",
   "id": "29db2424-6d1b-4c36-893f-ac400f8dbd55",
   "metadata": {},
   "source": [
    "## Models"
   ]
  },
  {
   "cell_type": "code",
   "execution_count": null,
   "id": "426561bb-358c-4311-9a16-5b2a379165f1",
   "metadata": {},
   "outputs": [],
   "source": [
    "# KNeighborsClassifier = 77.2\n",
    "\n",
    "knn = KNeighborsClassifier()\n",
    "display(knn.fit(X_train, y_train), \"\")\n",
    "\n",
    "accuracy = knn.score(X_test, y_test) * 100\n",
    "print(f\"KNN accuracy is {accuracy:.2f}% \\n\")\n",
    "\n",
    "pred = knn.predict(X_test)\n",
    "print(classification_report(y_pred = pred, y_true = y_test), \"\\n\")"
   ]
  },
  {
   "cell_type": "code",
   "execution_count": null,
   "id": "5a044931-6717-495c-a2f0-f96b23d23ae3",
   "metadata": {},
   "outputs": [],
   "source": [
    "\"\"\"\n",
    "LogisticRegression = 79.94\n",
    "\n",
    "- top 5 features by absolute coefficient\n",
    "  - deposit_type_No_Deposit 1.97\n",
    "  - deposit_type_Non_Refund 1.69\n",
    "  - previous_cancellations 1.27\n",
    "  - required_car_parking_spaces 0.98\n",
    "  - market_segment_Offline_TA_TO 0.78\n",
    "\"\"\"\n",
    "\n",
    "lr = LogisticRegression()\n",
    "display(lr.fit(X_train, y_train), \"\")\n",
    "\n",
    "accuracy = lr.score(X_test, y_test) * 100\n",
    "print(f\"Logistic Regression score is {accuracy:.2f}% \\n\")\n",
    "\n",
    "pred = lr.predict(X_test)\n",
    "print(classification_report(y_pred=pred, y_true=y_test), \"\\n\")\n",
    "\n",
    "# individual coefficients\n",
    "coefficients = lr.coef_[0]\n",
    "feature_names = X_train.columns\n",
    "coefficients_df = pd.DataFrame({\"Feature\": feature_names, \"Coefficient\": coefficients})\n",
    "coefficients_df[\"Absolute Coefficient\"] = abs(coefficients_df[\"Coefficient\"])\n",
    "coefficients_df[[\"Coefficient\", \"Absolute Coefficient\"]] = coefficients_df[[\"Coefficient\", \"Absolute Coefficient\"]].round(2)\n",
    "coefficients_df = coefficients_df.sort_values(by=\"Absolute Coefficient\", ascending=False)\n",
    "display(coefficients_df)"
   ]
  },
  {
   "cell_type": "code",
   "execution_count": null,
   "id": "d78d76da-87d6-44dd-81b8-d6eab2f21784",
   "metadata": {
    "scrolled": true
   },
   "outputs": [],
   "source": [
    "\"\"\"\n",
    "DecisionTreeClassifier = score 82.35\n",
    "\n",
    "- tree importance:\n",
    "  - 'deposit_type_Non_Refund': '0.24',\n",
    "  - 'lead_time': '0.16',\n",
    "  - 'avg_daily_rate': '0.12',\n",
    "  - 'arrival_date_day_of_month': '0.08',\n",
    "  - 'arrival_date_week_number': '0.06',\n",
    "  - 'total_of_special_requests': '0.06',\n",
    "  - 'stays_in_week_nights': '0.04',\n",
    "  - 'market_segment_Online_TA': '0.04',\n",
    "  - 'stays_in_weekend_nights': '0.03',\n",
    "  - 'previous_cancellations': '0.03',\n",
    "  - 'required_car_parking_spaces': '0.02',\n",
    "  - 'arrival_date_month': '0.01',\n",
    "  - 'adults': '0.01',\n",
    "  - 'children': '0.01',\n",
    "  - 'previous_bookings_not_canceled': '0.01',\n",
    "  - 'hotel_Resort': '0.01',\n",
    "  - 'meal_BB': '0.01',\n",
    "  - 'reserved_room_type_A': '0.01',\n",
    "  - 'reserved_room_type_D': '0.01',\n",
    "  - 'customer_type_Transient': '0.01'\n",
    "\"\"\"\n",
    "\n",
    "dt = DecisionTreeClassifier()\n",
    "display(dt.fit(X_train, y_train), \"\")\n",
    "\n",
    "accuracy = dt.score(X_test, y_test) * 100\n",
    "print(f\"Decision Tree accuracy is {accuracy:.2f}% \\n\")\n",
    "\n",
    "pred = dt.predict(X_test)\n",
    "print(classification_report(y_pred=pred, y_true=y_test), \"\\n\")\n",
    "\n",
    "tree_importance = {feature: f\"{importance:.2f}\" for feature, importance in zip(X_train.columns, dt.feature_importances_)}\n",
    "sorted_tree_importance = {k: v for k, v in sorted(tree_importance.items(), key=lambda item: item[1], reverse=True)}\n",
    "display(sorted_tree_importance, \"\")\n",
    "\n",
    "dt = DecisionTreeClassifier(max_depth=2)\n",
    "dt.fit(X_train, y_train)\n",
    "\n",
    "dot_data = export_graphviz(dt, out_file=\"tree.dot\", filled=True, rounded=True, feature_names=X_train.columns)\n",
    "\n",
    "with open(\"tree.dot\") as f:\n",
    "    dot_graph = f.read()\n",
    "graphviz.Source(dot_graph)"
   ]
  },
  {
   "cell_type": "markdown",
   "id": "9ef45d8a-c188-48e6-bd23-e7568007e78a",
   "metadata": {},
   "source": [
    "## Ensemble methods\n",
    "\n",
    "I have used the following 4 ensemble methods (with base estimators where possible) = and these are the best accuracy scores:\n",
    "1. BaggingClassifier(RandomForestClassifier) = 86.18\n",
    "2. **RandomForestClassifier = 86.31**\n",
    "3. GradientBoostingClassifier = 81.49\n",
    "4. AdaBoostClassifier(RandomForestClassifier) = 86.01"
   ]
  },
  {
   "cell_type": "markdown",
   "id": "ef6396c6-a68a-4fe3-b2a6-4cbcdc343b01",
   "metadata": {},
   "source": [
    "### BaggingClassifier\n",
    "\n",
    "- #1 BaggingClassifier = 85.27\n",
    "- #2 BaggingClassifier(KNeighborsClassifier) = 77.58\n",
    "- #3 BaggingClassifier(LogisticRegression) = 79.94\n",
    "- #4 BaggingClassifier(DecisionTreeClassifier) = 85.09\n",
    "- #5 **BaggingClassifier(RandomForestClassifier) = 86.18**\n",
    "- #6 BaggingClassifier(GradientBoostingClassifier) = 81.59"
   ]
  },
  {
   "cell_type": "code",
   "execution_count": null,
   "id": "816fa1ab-54a1-4a9c-bdec-4f2bc2221452",
   "metadata": {},
   "outputs": [],
   "source": [
    "#1 BaggingClassifier = 85.27\n",
    "\n",
    "bagging = BaggingClassifier()\n",
    "display(bagging.fit(X_train, y_train), \"\")\n",
    "\n",
    "accuracy = bagging.score(X_test, y_test) * 100\n",
    "print(f\"Bagging accuracy is {accuracy:.2f}% \\n\")\n",
    "\n",
    "pred = bagging.predict(X_test)\n",
    "print(classification_report(y_pred=pred, y_true=y_test), \"\\n\")"
   ]
  },
  {
   "cell_type": "code",
   "execution_count": null,
   "id": "caa12888-f552-483a-b8f8-82cf7343e554",
   "metadata": {
    "scrolled": true
   },
   "outputs": [],
   "source": [
    "#2 BaggingClassifier(KNeighborsClassifier) = 77.58\n",
    "\n",
    "bagging_knn = BaggingClassifier(KNeighborsClassifier())\n",
    "display(bagging_knn.fit(X_train, y_train), \"\")\n",
    "\n",
    "accuracy = bagging_knn.score(X_test, y_test) * 100\n",
    "print(f\"Bagging KNN accuracy is {accuracy:.2f}% \\n\")\n",
    "\n",
    "pred = bagging_knn.predict(X_test)\n",
    "print(classification_report(y_pred=pred, y_true=y_test), \"\\n\")"
   ]
  },
  {
   "cell_type": "code",
   "execution_count": null,
   "id": "c37aff77-e5a2-44d5-a2a1-306591577c6b",
   "metadata": {
    "scrolled": true
   },
   "outputs": [],
   "source": [
    "#3 BaggingClassifier(LogisticRegression) = 79.94\n",
    "\n",
    "bagging_lr = BaggingClassifier(LogisticRegression())\n",
    "display(bagging_lr.fit(X_train, y_train), \"\")\n",
    "\n",
    "accuracy = bagging_lr.score(X_test, y_test) * 100\n",
    "print(f\"Bagging LR accuracy is {accuracy:.2f}% \\n\")\n",
    "\n",
    "pred = bagging_lr.predict(X_test)\n",
    "print(classification_report(y_pred=pred, y_true=y_test), \"\\n\")"
   ]
  },
  {
   "cell_type": "code",
   "execution_count": null,
   "id": "3577d13a-c669-44e6-be09-def7a10dbe60",
   "metadata": {
    "scrolled": true
   },
   "outputs": [],
   "source": [
    "#4 BaggingClassifier(DecisionTreeClassifier) = 85.09\n",
    "\n",
    "bagging_dt = BaggingClassifier(DecisionTreeClassifier())\n",
    "display(bagging_dt.fit(X_train, y_train), \"\")\n",
    "\n",
    "accuracy = bagging_dt.score(X_test, y_test) * 100\n",
    "print(f\"Bagging DT accuracy is {accuracy:.2f}% \\n\")\n",
    "\n",
    "pred = bagging_dt.predict(X_test)\n",
    "print(classification_report(y_pred=pred, y_true=y_test), \"\\n\")"
   ]
  },
  {
   "cell_type": "code",
   "execution_count": null,
   "id": "0564e73d-7e31-4faf-ae18-3467b1a35a3b",
   "metadata": {
    "scrolled": true
   },
   "outputs": [],
   "source": [
    "#5 BaggingClassifier(RandomForestClassifier) = 86.18\n",
    "\n",
    "bagging_rf = BaggingClassifier(RandomForestClassifier())\n",
    "display(bagging_rf.fit(X_train, y_train), \"\")\n",
    "\n",
    "accuracy = bagging_rf.score(X_test, y_test) * 100\n",
    "print(f\"Bagging RF accuracy is {accuracy:.2f}% \\n\")\n",
    "\n",
    "pred = bagging_rf.predict(X_test)\n",
    "print(classification_report(y_pred=pred, y_true=y_test), \"\\n\")"
   ]
  },
  {
   "cell_type": "code",
   "execution_count": null,
   "id": "98c74b23-be7a-48f3-83c3-9935c86d8954",
   "metadata": {},
   "outputs": [],
   "source": [
    "#6 BaggingClassifier(GradientBoostingClassifier) = 81.59\n",
    "\n",
    "bagging_gb = BaggingClassifier(GradientBoostingClassifier())\n",
    "display(bagging_gb.fit(X_train, y_train), \"\")\n",
    "\n",
    "accuracy = bagging_gb.score(X_test, y_test) * 100\n",
    "print(f\"Bagging GB accuracy is {accuracy:.2f}% \\n\")\n",
    "\n",
    "pred = bagging_gb.predict(X_test)\n",
    "print(classification_report(y_pred=pred, y_true=y_test), \"\\n\")"
   ]
  },
  {
   "cell_type": "code",
   "execution_count": null,
   "id": "4d9f8d45-1f09-4e68-87f5-d3214bb728de",
   "metadata": {},
   "outputs": [],
   "source": [
    "# RandomForestClassifier = 86.31\n",
    "\n",
    "rf = RandomForestClassifier()\n",
    "display(rf.fit(X_train, y_train), \"\")\n",
    "\n",
    "accuracy = rf.score(X_test, y_test) * 100\n",
    "print(f\"RandomForest accuracy is {accuracy:.2f}% \\n\")\n",
    "\n",
    "pred = rf.predict(X_test)\n",
    "print(classification_report(y_pred=pred, y_true=y_test), \"\\n\")"
   ]
  },
  {
   "cell_type": "code",
   "execution_count": null,
   "id": "af977627-e240-4c21-b3d3-ff531de1b0d8",
   "metadata": {},
   "outputs": [],
   "source": [
    "# GradientBoostingClassifier = 81.49\n",
    "\n",
    "gb = GradientBoostingClassifier()\n",
    "display(gb.fit(X_train, y_train), \"\")\n",
    "\n",
    "accuracy = gb.score(X_test, y_test) * 100\n",
    "print(f\"GradientBoosting accuracy is {accuracy:.2f}% \\n\")\n",
    "\n",
    "pred = gb.predict(X_test)\n",
    "print(classification_report(y_pred=pred, y_true=y_test), \"\\n\")"
   ]
  },
  {
   "cell_type": "markdown",
   "id": "d9e79432-da22-41dd-908a-509442df6c47",
   "metadata": {},
   "source": [
    "### AdaBoostClassifier\n",
    "- #1 AdaBoostClassifier = 81.39\n",
    "- #2 AdaBoostClassifier(LogisticRegression) = 79.46\n",
    "- #3 AdaBoostClassifier(DecisionTreeClassifier) = 82.25\n",
    "computationally expensive models:\n",
    "- #4 **AdaBoostClassifier(RandomForestClassifier) = 86.01, runtime 10m**\n",
    "- #5 AdaBoostClassifier(GradientBoostingClassifier) = 84.06, runtime 8m"
   ]
  },
  {
   "cell_type": "code",
   "execution_count": null,
   "id": "187de951-e90f-47f9-be73-83c3b114dd4b",
   "metadata": {
    "scrolled": true
   },
   "outputs": [],
   "source": [
    "#1 AdaBoostClassifier = 81.39\n",
    "\n",
    "ab = AdaBoostClassifier()\n",
    "display(ab.fit(X_train, y_train), \"\")\n",
    "\n",
    "accuracy = ab.score(X_test, y_test) * 100\n",
    "print(f\"AdaBoost accuracy is {accuracy:.2f}% \\n\")\n",
    "\n",
    "pred = ab.predict(X_test)\n",
    "print(classification_report(y_pred=pred, y_true=y_test), \"\\n\")"
   ]
  },
  {
   "cell_type": "code",
   "execution_count": null,
   "id": "762720c1",
   "metadata": {
    "scrolled": true
   },
   "outputs": [],
   "source": [
    "#2 AdaBoostClassifier(LogisticRegression) = 79.46\n",
    "\n",
    "ab_lr = AdaBoostClassifier(LogisticRegression())\n",
    "display(ab_lr.fit(X_train, y_train), \"\")\n",
    "\n",
    "accuracy = ab_lr.score(X_test, y_test) * 100\n",
    "print(f\"AdaBoost LR accuracy is {accuracy:.2f}% \\n\")\n",
    "\n",
    "pred = ab_lr.predict(X_test)\n",
    "print(classification_report(y_pred=pred, y_true=y_test), \"\\n\")"
   ]
  },
  {
   "cell_type": "code",
   "execution_count": null,
   "id": "b513cdff",
   "metadata": {
    "scrolled": true
   },
   "outputs": [],
   "source": [
    "#3 AdaBoostClassifier(DecisionTreeClassifier) = 82.25\n",
    "\n",
    "ab_dt = AdaBoostClassifier(DecisionTreeClassifier())\n",
    "display(ab_dt.fit(X_train, y_train), \"\")\n",
    "\n",
    "accuracy = ab_dt.score(X_test, y_test) * 100\n",
    "print(f\"AdaBoost DT accuracy is {accuracy:.2f}% \\n\")\n",
    "\n",
    "pred = ab_dt.predict(X_test)\n",
    "print(classification_report(y_pred=pred, y_true=y_test), \"\\n\")"
   ]
  },
  {
   "cell_type": "code",
   "execution_count": null,
   "id": "a9e68fb7-5edf-4e3d-8b94-bdb9983533b1",
   "metadata": {
    "scrolled": true
   },
   "outputs": [],
   "source": [
    "#4 AdaBoostClassifier(RandomForestClassifier) = 86.01\n",
    "\n",
    "ab_rf = AdaBoostClassifier(RandomForestClassifier())\n",
    "display(ab_rf.fit(X_train, y_train), \"\")\n",
    "\n",
    "accuracy = ab_rf.score(X_test, y_test) * 100\n",
    "print(f\"AdaBoost RF accuracy is {accuracy:.2f}% \\n\")\n",
    "\n",
    "pred = ab_rf.predict(X_test)\n",
    "print(classification_report(y_pred=pred, y_true=y_test), \"\\n\")"
   ]
  },
  {
   "cell_type": "code",
   "execution_count": null,
   "id": "85fdc003",
   "metadata": {
    "scrolled": true
   },
   "outputs": [],
   "source": [
    "#5 AdaBoostClassifier(GradientBoostingClassifier) = 84.06\n",
    "\n",
    "ab_gb = AdaBoostClassifier(GradientBoostingClassifier())\n",
    "display(ab_gb.fit(X_train, y_train), \"\")\n",
    "\n",
    "accuracy = ab_gb.score(X_test, y_test) * 100\n",
    "print(f\"AdaBoost GB accuracy is {accuracy:.2f}% \\n\")\n",
    "\n",
    "pred = ab_gb.predict(X_test)\n",
    "print(classification_report(y_pred=pred, y_true=y_test), \"\\n\")"
   ]
  },
  {
   "cell_type": "markdown",
   "id": "67b1c732-712d-4947-b43b-d6599569ed82",
   "metadata": {},
   "source": [
    "Next: notebook_05_machine_learning_02_scaling"
   ]
  }
 ],
 "metadata": {
  "kernelspec": {
   "display_name": "Python 3 (ipykernel)",
   "language": "python",
   "name": "python3"
  },
  "language_info": {
   "codemirror_mode": {
    "name": "ipython",
    "version": 3
   },
   "file_extension": ".py",
   "mimetype": "text/x-python",
   "name": "python",
   "nbconvert_exporter": "python",
   "pygments_lexer": "ipython3",
   "version": "3.11.8"
  }
 },
 "nbformat": 4,
 "nbformat_minor": 5
}
